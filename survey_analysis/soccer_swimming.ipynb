{
 "cells": [
  {
   "cell_type": "code",
   "execution_count": 1,
   "id": "juvenile-coffee",
   "metadata": {},
   "outputs": [],
   "source": [
    "import pandas as pd\n",
    "import numpy as np\n",
    "import matplotlib.pyplot as plt\n",
    "import seaborn as sns\n",
    "import warnings\n",
    "warnings.filterwarnings(\"ignore\", category=FutureWarning)"
   ]
  },
  {
   "cell_type": "markdown",
   "id": "affected-albuquerque",
   "metadata": {},
   "source": [
    "###"
   ]
  },
  {
   "cell_type": "markdown",
   "id": "baking-ladder",
   "metadata": {},
   "source": [
    "**1. What is the total sample size for the SvS survey?**"
   ]
  },
  {
   "cell_type": "code",
   "execution_count": 2,
   "id": "experimental-anniversary",
   "metadata": {},
   "outputs": [
    {
     "name": "stdout",
     "output_type": "stream",
     "text": [
      "Total sample size: 2000000\n"
     ]
    }
   ],
   "source": [
    "swim_df=pd.read_csv(\"./swimming.csv\", index_col='Unnamed: 0')\n",
    "socc_df=pd.read_csv(\"./soccer.csv\", index_col='Unnamed: 0')\n",
    "print(\"Total sample size: {}\".format(swim_df.shape[0] + socc_df.shape[0]))"
   ]
  },
  {
   "cell_type": "code",
   "execution_count": 3,
   "id": "interested-closing",
   "metadata": {},
   "outputs": [
    {
     "data": {
      "text/plain": [
       "Gender  Soccer\n",
       "Male    1         0.759889\n",
       "        0         0.140111\n",
       "Female  0         0.059895\n",
       "        1         0.040105\n",
       "dtype: float64"
      ]
     },
     "execution_count": 3,
     "metadata": {},
     "output_type": "execute_result"
    }
   ],
   "source": [
    "socc_df.value_counts()/socc_df.shape[0]"
   ]
  },
  {
   "cell_type": "code",
   "execution_count": 4,
   "id": "religious-burden",
   "metadata": {},
   "outputs": [
    {
     "data": {
      "text/plain": [
       "Gender  Swimming\n",
       "Male    1           0.600391\n",
       "Female  0           0.150002\n",
       "        1           0.149998\n",
       "Male    0           0.099609\n",
       "dtype: float64"
      ]
     },
     "execution_count": 4,
     "metadata": {},
     "output_type": "execute_result"
    }
   ],
   "source": [
    "swim_df.value_counts()/swim_df.shape[0]"
   ]
  },
  {
   "cell_type": "markdown",
   "id": "posted-drive",
   "metadata": {},
   "source": [
    "###"
   ]
  },
  {
   "cell_type": "markdown",
   "id": "endangered-orleans",
   "metadata": {},
   "source": [
    "**2. What percent of people like Soccer?**"
   ]
  },
  {
   "cell_type": "code",
   "execution_count": 5,
   "id": "political-painting",
   "metadata": {
    "tags": []
   },
   "outputs": [
    {
     "data": {
      "image/png": "[encoded data removed]",
      "text/plain": [
       "<Figure size 1080x360 with 3 Axes>"
      ]
     },
     "metadata": {
      "needs_background": "light"
     },
     "output_type": "display_data"
    },
    {
     "name": "stdout",
     "output_type": "stream",
     "text": [
      "Soccer is appreciated by the 79.9994% of the sample\n",
      "\n",
      "Male sample size of 900000/1000000 individuals\n",
      "\n",
      "Soccer is appreciated by the 84.43% of the male sample\n",
      "Male who prefers soccer: 759889\n",
      "Male who prefers other activites: 140111\n",
      "\n",
      "Female sample size of 100000/1000000 individuals\n",
      "\n",
      "Soccer is appreciated by the 40.11% of the female sample\n",
      "Female who prefers soccer: 40105\n",
      "Female who prefers other activites: 59895\n",
      "\n"
     ]
    }
   ],
   "source": [
    "#SOCCER DATASET\n",
    "fig, ax = plt.subplots(1, 3,figsize=(15,5))\n",
    "\n",
    "ax[0].title.set_text('Soccer appreciation rate')\n",
    "sns.countplot(socc_df['Soccer'], palette='tab10', ax=ax[0])\n",
    "ax[0].set_xticklabels([\"DON'T LIKE\", \"LIKE\"])\n",
    "\n",
    "\n",
    "ax[1].title.set_text('♂ soccer appreciation rate')\n",
    "sns.countplot(socc_df[socc_df['Gender']=='Male']['Soccer'], palette='tab10', ax=ax[1])\n",
    "ax[1].set_xticklabels([\"DON'T LIKE\", \"LIKE\"])\n",
    "\n",
    "\n",
    "ax[2].title.set_text('♀ soccer appreciation rate')\n",
    "sns.countplot(socc_df[socc_df['Gender']=='Female']['Soccer'], palette='tab10', ax=ax[2])\n",
    "ax[2].set_xticklabels([\"DON'T LIKE\", \"LIKE\"])\n",
    "\n",
    "\n",
    "plt.tight_layout()\n",
    "plt.show()\n",
    "\n",
    "male_pop1=socc_df[socc_df['Gender']=='Male'].shape[0]\n",
    "female_pop1=socc_df[socc_df['Gender']=='Female'].shape[0]\n",
    "\n",
    "male_freq_pro_soccer=socc_df[(socc_df['Soccer']==1)&(socc_df['Gender']=='Male')].shape[0]/socc_df[socc_df['Gender']=='Male'].shape[0]\n",
    "female_freq_pro_soccer=socc_df[(socc_df['Soccer']==1)&(socc_df['Gender']=='Female')].shape[0]/socc_df[socc_df['Gender']=='Female'].shape[0]\n",
    "\n",
    "\n",
    "\n",
    "print(\"Soccer is appreciated by the {}% of the sample\".format(socc_df[(socc_df['Soccer']==1)].shape[0]/socc_df.shape[0]*100), end='\\n\\n')\n",
    "\n",
    "print(\"Male sample size of {}/{} individuals\".format(male_pop1, socc_df.shape[0]), end='\\n\\n')\n",
    "print(\"Soccer is appreciated by the {}% of the male sample\".format(format(male_freq_pro_soccer*100, '.2f')))\n",
    "print(\"Male who prefers soccer: {}\".format(int(male_pop1*male_freq_pro_soccer)))\n",
    "print(\"Male who prefers other activites: {}\".format(int(male_pop1*(1-male_freq_pro_soccer))), end='\\n\\n')\n",
    "\n",
    "\n",
    "print(\"Female sample size of {}/{} individuals\".format(female_pop1, socc_df.shape[0]), end='\\n\\n')\n",
    "print(\"Soccer is appreciated by the {}% of the female sample\".format(format(female_freq_pro_soccer*100, '.2f')))\n",
    "print(\"Female who prefers soccer: {}\".format(int(female_pop1*female_freq_pro_soccer)))\n",
    "print(\"Female who prefers other activites: {}\".format(int(female_pop1*(1-female_freq_pro_soccer))), end='\\n\\n')\n"
   ]
  },
  {
   "cell_type": "markdown",
   "id": "fixed-trout",
   "metadata": {},
   "source": [
    "###"
   ]
  },
  {
   "cell_type": "markdown",
   "id": "certified-favorite",
   "metadata": {},
   "source": [
    "**3. What percent of people like swimming?**"
   ]
  },
  {
   "cell_type": "code",
   "execution_count": 6,
   "id": "romance-publisher",
   "metadata": {},
   "outputs": [
    {
     "data": {
      "image/png": "[encoded data removed]",
      "text/plain": [
       "<Figure size 1080x360 with 3 Axes>"
      ]
     },
     "metadata": {
      "needs_background": "light"
     },
     "output_type": "display_data"
    },
    {
     "name": "stdout",
     "output_type": "stream",
     "text": [
      "Swimming is appreciated by the 75.0389% of the sample\n",
      "\n",
      "Male sample size of 700000/1000000 individuals\n",
      "\n",
      "Swimming is appreciated by the 85.77% of the male sample\n",
      "Male who prefers swimming: 600391\n",
      "Male who prefers other activites: 99608\n",
      "\n",
      "Female sample size of 300000/1000000 individuals\n",
      "\n",
      "Swimming is appreciated by the 50.00% of the female sample\n",
      "Female who prefers swimming: 149998\n",
      "Female who prefers other activites: 150002\n"
     ]
    }
   ],
   "source": [
    "fig, ax = plt.subplots(1, 3,figsize=(15,5))\n",
    "\n",
    "ax[0].title.set_text('Swimming appreciation rate')\n",
    "sns.countplot(swim_df['Swimming'], palette='tab10', ax=ax[0])\n",
    "ax[0].set_xticklabels([\"DON'T LIKE\", \"LIKE\"])\n",
    "\n",
    "\n",
    "ax[1].title.set_text('♂ Swimming appreciation rate')\n",
    "sns.countplot(swim_df[swim_df['Gender']=='Male']['Swimming'], palette='tab10', ax=ax[1])\n",
    "ax[1].set_xticklabels([\"DON'T LIKE\", \"LIKE\"])\n",
    "\n",
    "\n",
    "ax[2].title.set_text('♀ Swimming appreciation rate')\n",
    "sns.countplot(swim_df[swim_df['Gender']=='Female']['Swimming'], palette='tab10', ax=ax[2])\n",
    "ax[2].set_xticklabels([\"DON'T LIKE\", \"LIKE\"])\n",
    "\n",
    "\n",
    "plt.tight_layout()\n",
    "plt.show()\n",
    "\n",
    "male_pop2=swim_df[swim_df['Gender']=='Male'].shape[0]\n",
    "female_pop2=swim_df[swim_df['Gender']=='Female'].shape[0]\n",
    "\n",
    "male_freq_pro_swimming2=swim_df[(swim_df['Swimming']==1)&(swim_df['Gender']=='Male')].shape[0]/swim_df[swim_df['Gender']=='Male'].shape[0]\n",
    "female_freq_pro_swimming2=swim_df[(swim_df['Swimming']==1)&(swim_df['Gender']=='Female')].shape[0]/swim_df[swim_df['Gender']=='Female'].shape[0]\n",
    "\n",
    "\n",
    "print(\"Swimming is appreciated by the {}% of the sample\".format(swim_df[(swim_df['Swimming']==1)].shape[0]/swim_df.shape[0]*100), end='\\n\\n')\n",
    "\n",
    "print(\"Male sample size of {}/{} individuals\".format(male_pop2, swim_df.shape[0]), end='\\n\\n')\n",
    "print(\"Swimming is appreciated by the {}% of the male sample\".format(format(male_freq_pro_swimming2*100, '.2f')))\n",
    "print(\"Male who prefers swimming: {}\".format(int(male_pop2*(male_freq_pro_swimming2))))\n",
    "print(\"Male who prefers other activites: {}\".format(int(male_pop2*(1-male_freq_pro_swimming2))), end='\\n\\n')\n",
    "\n",
    "\n",
    "print(\"Female sample size of {}/{} individuals\".format(female_pop2, swim_df.shape[0]), end='\\n\\n')\n",
    "print(\"Swimming is appreciated by the {}% of the female sample\".format(format(female_freq_pro_swimming2*100, '.2f')))\n",
    "print(\"Female who prefers swimming: {}\".format(int(female_pop2*(female_freq_pro_swimming2))))\n",
    "print(\"Female who prefers other activites: {}\".format(int(female_pop2*(1-female_freq_pro_swimming2))))\n"
   ]
  },
  {
   "cell_type": "markdown",
   "id": "floppy-philadelphia",
   "metadata": {},
   "source": [
    "###"
   ]
  },
  {
   "cell_type": "markdown",
   "id": "little-deputy",
   "metadata": {},
   "source": [
    "**4. Please provide an analysis regarding the results of this comparison, specifically with respect to the following question: “Do people generally prefer Soccer or Swimming? Do men and women separately prefer Soccer or Swimming? Does this make sense?”**"
   ]
  },
  {
   "cell_type": "markdown",
   "id": "diverse-event",
   "metadata": {},
   "source": [
    "At first glance after analysing the given datasets, we can conclude that soccer is generally preferred respect swimming. In details we can see how men generally prefer soccer, while women tend to appreciate slightly more swimming.\n",
    "\n",
    "However the samples provided are not properly balanced, since the 2 datasets are respectively populated by 90% and 70% of male which prevent from getting an unbiased opinion. "
   ]
  },
  {
   "cell_type": "markdown",
   "id": "normal-front",
   "metadata": {},
   "source": [
    "###"
   ]
  },
  {
   "cell_type": "markdown",
   "id": "frank-mustang",
   "metadata": {},
   "source": [
    "**5. Please fill out the following conditional probability, by defining what the answer is for A, B, C**\n",
    "\n",
    "\n",
    "**P(Likes Soccer) = [ P(Likes Soccer | Male) x A ] + [ B x C ]**\n",
    "\n",
    "* A= P(Male)\n",
    "* B= P(Likes Soccer | Female)\n",
    "* C= P(Female)"
   ]
  },
  {
   "cell_type": "code",
   "execution_count": 7,
   "id": "official-hungary",
   "metadata": {},
   "outputs": [],
   "source": [
    "female_sample_size=socc_df[socc_df['Gender']=='Female'].shape[0]\n",
    "male_sample_size=socc_df[socc_df['Gender']=='Male'].shape[0]\n",
    "\n",
    "female_df=pd.concat([pd.DataFrame(socc_df[socc_df['Gender']=='Female'].groupby('Gender')['Soccer'].sum()).rename(columns={'Gender':'Female', 'Soccer':'Likes Soccer'}),\n",
    "pd.DataFrame(female_sample_size-socc_df[socc_df['Gender']=='Female'].groupby('Gender')['Soccer'].sum()).rename(columns={'Gender':'Female', 'Soccer':\"Does not like Soccer\"})], axis=1)\n",
    "\n",
    "male_df=pd.concat([pd.DataFrame(socc_df[socc_df['Gender']=='Male'].groupby('Gender')['Soccer'].sum()).rename(columns={'Gender':'Male', 'Soccer':'Likes Soccer'}),\n",
    "pd.DataFrame(male_sample_size-socc_df[socc_df['Gender']=='Male'].groupby('Gender')['Soccer'].sum()).rename(columns={'Gender':'Male', 'Soccer':\"Does not like Soccer\"})], axis=1)\n",
    "\n",
    "soccer_df = pd.concat([female_df, male_df], axis=0)\n",
    "\n",
    "soccer_df.loc[\"Female\", 'Grand Total']=soccer_df.loc['Female', :].sum()\n",
    "soccer_df.loc[\"Male\", 'Grand Total']=soccer_df.loc['Male', :].sum()\n",
    "\n",
    "soccer_df.loc['Total', 'Likes Soccer']=soccer_df.loc[:, 'Likes Soccer'].sum()\n",
    "soccer_df.loc['Total', \"Does not like Soccer\"]=soccer_df.loc[:, \"Does not like Soccer\"].sum()\n",
    "soccer_df.loc['Total', 'Grand Total']=soccer_df.loc[:, 'Grand Total'].sum()"
   ]
  },
  {
   "cell_type": "code",
   "execution_count": 8,
   "id": "collect-disposition",
   "metadata": {},
   "outputs": [],
   "source": [
    "soccer_df.loc['Female', 'Likes Soccer%']=soccer_df.loc['Female', 'Likes Soccer']/soccer_df.loc['Female', 'Grand Total']\n",
    "#--\n",
    "soccer_df.loc['Male', 'Likes Soccer%']=soccer_df.loc['Male', 'Likes Soccer']/soccer_df.loc['Male', 'Grand Total']\n",
    "#--\n",
    "soccer_df.loc['Total', 'Likes Soccer%']=soccer_df.loc['Total', 'Likes Soccer']/soccer_df.loc['Total', 'Grand Total']\n",
    "\n",
    "soccer_df.loc['Female', 'Does not like Soccer%']=soccer_df.loc['Female', 'Does not like Soccer']/soccer_df.loc['Female', 'Grand Total']\n",
    "#--\n",
    "soccer_df.loc['Male', 'Does not like Soccer%']=soccer_df.loc['Male', 'Does not like Soccer']/soccer_df.loc['Male', 'Grand Total']\n",
    "#--\n",
    "soccer_df.loc['Total', 'Does not like Soccer%']=soccer_df.loc['Total', 'Does not like Soccer']/soccer_df.loc['Total', 'Grand Total']"
   ]
  },
  {
   "cell_type": "code",
   "execution_count": 9,
   "id": "universal-people",
   "metadata": {
    "tags": []
   },
   "outputs": [],
   "source": [
    "# P(Likes Soccer)\n",
    "p_likes_soccer=soccer_df.loc['Total', 'Likes Soccer%']\n",
    "\n",
    "# P(Male)\n",
    "p_male = soccer_df.loc['Male', 'Grand Total']/soccer_df.loc['Total', 'Grand Total']\n",
    "\n",
    "# P(Male|Likes Soccer) -> P(Male and Likes Soccer) / P(Likes Soccer)\n",
    "#Probability of being a male given that subject likes Soccer\n",
    "p_male_likes_soccer =soccer_df.loc['Male', 'Likes Soccer']/soccer_df.loc['Total', 'Likes Soccer']\n",
    "\n",
    "# P(Likes Soccer|Male) -> P(Likes Soccer and Male) / P(Male)\n",
    "#probability someone likes soccer given that person is a male\n",
    "p_likes_soccer_male=soccer_df.loc['Male', 'Likes Soccer%']\n",
    "\n",
    "# P(Likes Soccer and Male)\n",
    "p_likes_soccer_and_male, p_male_and_likes_soccer = (p_likes_soccer_male * p_male),(p_male_likes_soccer * p_likes_soccer)\n",
    "\n",
    "# P(Female)\n",
    "p_female = (1-p_male)\n",
    "\n",
    "# P(Female|Likes Soccer) -> P(Female and Likes Soccer) / P(Likes Soccer)\n",
    "#Probability of being a female given that subject likes Soccer\n",
    "p_female_likes_soccer =soccer_df.loc['Female', 'Likes Soccer']/soccer_df.loc['Total', 'Likes Soccer']\n",
    "\n",
    "# P(Likes Soccer|Female) -> P(Likes Soccer and Female) / P(Female)\n",
    "#probability someone likes soccer given that person is a female\n",
    "p_likes_soccer_female=soccer_df.loc['Female', 'Likes Soccer%']\n",
    "\n",
    "# P(Likes Soccer and Female) -> P(A|B)*P(B)\n",
    "p_likes_soccer_and_female, p_female_and_likes_soccer =  (p_likes_soccer_female * p_female), (p_female_likes_soccer * p_likes_soccer)"
   ]
  },
  {
   "cell_type": "code",
   "execution_count": 10,
   "id": "decimal-combination",
   "metadata": {},
   "outputs": [],
   "source": [
    "p_likes_soccer= (p_likes_soccer_male*p_male) + (p_likes_soccer_female*p_female)"
   ]
  },
  {
   "cell_type": "code",
   "execution_count": null,
   "id": "pacific-advice",
   "metadata": {},
   "outputs": [],
   "source": []
  }
 ],
 "metadata": {
  "kernelspec": {
   "display_name": "Python 3",
   "language": "python",
   "name": "python3"
  },
  "language_info": {
   "codemirror_mode": {
    "name": "ipython",
    "version": 3
   },
   "file_extension": ".py",
   "mimetype": "text/x-python",
   "name": "python",
   "nbconvert_exporter": "python",
   "pygments_lexer": "ipython3",
   "version": "3.8.0"
  }
 },
 "nbformat": 4,
 "nbformat_minor": 5
}
