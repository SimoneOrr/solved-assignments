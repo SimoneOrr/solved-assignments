{
 "cells": [
  {
   "cell_type": "markdown",
   "metadata": {},
   "source": [
    "## Introduction\n",
    "This assessment is designed to test the core skills required for a successful data analyst at\n",
    "Reboot. The assessment will require you to source, extract, clean, and visualise data to answer\n",
    "the research question presented below.\n",
    "## Research Question\n",
    "The <ins>rise of Veganism in the UK</ins> has prompted restaurants to include **vegan friendly** options on\n",
    "their menus. While some restaurants have adapted with great speed, others have lagged\n",
    "behind. Your task is to find the <ins>UK cities that are most suitable for vegans to eat out in</ins>.\n",
    "\n",
    "To answer this question, we would like you to find the number of <ins>vegan friendly restaurants\n",
    "per capita in each of the top 20 UK cities listed on TripAdvisor</ins>. Once the data has been\n",
    "collected and processed as appropriate, you will need to create a data visualisation dashboard\n",
    "to display your results.\n",
    "Feel free to supplement this data with anything you deem appropriate to better answer the\n",
    "research question."
   ]
  },
  {
   "cell_type": "code",
   "execution_count": 1,
   "metadata": {},
   "outputs": [],
   "source": [
    "from bs4 import BeautifulSoup\n",
    "import requests\n",
    "\n",
    "import re\n",
    "import pandas as pd\n",
    "import numpy as np\n",
    "import matplotlib.pyplot as plt\n",
    "import seaborn as sns \n",
    "\n",
    "from geopy import Nominatim\n",
    "import geopy\n",
    "import geopandas\n",
    "from geopy.exc import GeocoderTimedOut\n",
    "\n",
    "import folium\n",
    "import time\n",
    "from folium.plugins import MarkerCluster\n",
    "\n",
    "# import warnings\n",
    "# warnings.filterwarnings('ignore')\n",
    "\n",
    "%matplotlib inline"
   ]
  },
  {
   "cell_type": "markdown",
   "metadata": {},
   "source": [
    " "
   ]
  },
  {
   "cell_type": "markdown",
   "metadata": {},
   "source": [
    "In order to automatize the data collection for each country in [TripAdvisor UK]('https://www.tripadvisor.co.uk/Restaurants-g186216-United_Kingdom.html'), we're going to create a crawler which iterates through each webpage and save the information we need in a DataFrame.\n",
    "\n",
    "First of all we establish a connection with the page using requests and then check the content of the Body using the library BeautifulSoup."
   ]
  },
  {
   "cell_type": "code",
   "execution_count": 2,
   "metadata": {
    "tags": []
   },
   "outputs": [],
   "source": [
    "def web_to_soup(url):\n",
    "    header= {\"User-Agent\":\"Mozilla/5.0 (X11; Linux x86_64) AppleWebKit/537.36 (KHTML, like Gecko) Chrome/91.0.4472.106 Safari/537.36\"}\n",
    "\n",
    "    response=requests.get(url, headers=header)\n",
    "    soup = BeautifulSoup(response.text, \"html.parser\")\n",
    "    \n",
    "    return soup"
   ]
  },
  {
   "cell_type": "code",
   "execution_count": 3,
   "metadata": {},
   "outputs": [],
   "source": [
    "soup=web_to_soup('https://www.tripadvisor.co.uk/Restaurants-g186216-United_Kingdom.html')"
   ]
  },
  {
   "cell_type": "markdown",
   "metadata": {},
   "source": [
    " "
   ]
  },
  {
   "cell_type": "markdown",
   "metadata": {},
   "source": [
    "From the main page we can extract the subdirectories for each city which can be added to the [main page]('https://www.tripadvisor.co.uk/') url in order to find the specific information."
   ]
  },
  {
   "cell_type": "code",
   "execution_count": 4,
   "metadata": {
    "tags": []
   },
   "outputs": [
    {
     "data": {
      "text/plain": [
       "['/Restaurants-g186338-London_England.html',\n",
       " '/Restaurants-g187069-Manchester_Greater_Manchester_England.html',\n",
       " '/Restaurants-g186402-Birmingham_West_Midlands_England.html',\n",
       " '/Restaurants-g186525-Edinburgh_Scotland.html',\n",
       " '/Restaurants-g186534-Glasgow_Scotland.html',\n",
       " '/Restaurants-g186411-Leeds_West_Yorkshire_England.html',\n",
       " '/Restaurants-g186337-Liverpool_Merseyside_England.html',\n",
       " '/Restaurants-g186220-Bristol_England.html',\n",
       " '/Restaurants-g186364-Sheffield_South_Yorkshire_England.html',\n",
       " '/Restaurants-g186356-Nottingham_Nottinghamshire_England.html',\n",
       " '/Restaurants-g186334-Leicester_Leicestershire_England.html',\n",
       " '/Restaurants-g186460-Cardiff_South_Wales_Wales.html',\n",
       " '/Restaurants-g186394-Newcastle_upon_Tyne_Tyne_and_Wear_England.html',\n",
       " '/Restaurants-g186273-Brighton_East_Sussex_England.html',\n",
       " '/Restaurants-g186470-Belfast_Northern_Ireland.html',\n",
       " '/Restaurants-g186346-York_North_Yorkshire_England.html',\n",
       " '/Restaurants-g186332-Blackpool_Lancashire_England.html',\n",
       " '/Restaurants-g186299-Southampton_Hampshire_England.html',\n",
       " '/Restaurants-g186262-Bournemouth_Dorset_England.html',\n",
       " '/Restaurants-g186342-Norwich_Norfolk_East_Anglia_England.html']"
      ]
     },
     "execution_count": 4,
     "metadata": {},
     "output_type": "execute_result"
    }
   ],
   "source": [
    "main_page='https://www.tripadvisor.co.uk'\n",
    "\n",
    "cities_subs=[i.find('a')['href'] for i in soup.findAll('div', {'class':'geo_name'})]\n",
    "cities_subs"
   ]
  },
  {
   "cell_type": "markdown",
   "metadata": {},
   "source": [
    " "
   ]
  },
  {
   "cell_type": "markdown",
   "metadata": {},
   "source": [
    "While inspecting the webpage we can notice that under the DIV pageNumbers, each span represent a page of contents and the associated link contain useful information to facilitate the data collection"
   ]
  },
  {
   "cell_type": "markdown",
   "metadata": {},
   "source": [
    " "
   ]
  },
  {
   "cell_type": "markdown",
   "metadata": {},
   "source": [
    "<center><img src='./tripadvisor_pages.png'><center>"
   ]
  },
  {
   "cell_type": "markdown",
   "metadata": {},
   "source": [
    "**/RestaurantSearch-g186338-oa150-zfz10697-London_England.html**\n",
    "\n",
    "A closer look to see how the URL is built:\n",
    "\n",
    "* Command:  **/RestaurantSearch**\n",
    "* City code:  **g186338**\n",
    "* Page selector:  **oa0**\n",
    "* Vegan_friendly_filter:  **zfz10697**\n",
    "* City:  **London_England**\n",
    "\n",
    "Using this information we can create a dataframe containing these initial details and build a new url to direct our search"
   ]
  },
  {
   "cell_type": "code",
   "execution_count": 5,
   "metadata": {
    "tags": []
   },
   "outputs": [
    {
     "data": {
      "text/html": [
       "<div>\n",
       "<style scoped>\n",
       "    .dataframe tbody tr th:only-of-type {\n",
       "        vertical-align: middle;\n",
       "    }\n",
       "\n",
       "    .dataframe tbody tr th {\n",
       "        vertical-align: top;\n",
       "    }\n",
       "\n",
       "    .dataframe thead th {\n",
       "        text-align: right;\n",
       "    }\n",
       "</style>\n",
       "<table border=\"1\" class=\"dataframe\">\n",
       "  <thead>\n",
       "    <tr style=\"text-align: right;\">\n",
       "      <th></th>\n",
       "      <th>city_code</th>\n",
       "      <th>city</th>\n",
       "    </tr>\n",
       "  </thead>\n",
       "  <tbody>\n",
       "    <tr>\n",
       "      <th>0</th>\n",
       "      <td>g186338</td>\n",
       "      <td>London_England.html</td>\n",
       "    </tr>\n",
       "    <tr>\n",
       "      <th>1</th>\n",
       "      <td>g187069</td>\n",
       "      <td>Manchester_Greater_Manchester_England.html</td>\n",
       "    </tr>\n",
       "    <tr>\n",
       "      <th>2</th>\n",
       "      <td>g186402</td>\n",
       "      <td>Birmingham_West_Midlands_England.html</td>\n",
       "    </tr>\n",
       "    <tr>\n",
       "      <th>3</th>\n",
       "      <td>g186525</td>\n",
       "      <td>Edinburgh_Scotland.html</td>\n",
       "    </tr>\n",
       "    <tr>\n",
       "      <th>4</th>\n",
       "      <td>g186534</td>\n",
       "      <td>Glasgow_Scotland.html</td>\n",
       "    </tr>\n",
       "    <tr>\n",
       "      <th>5</th>\n",
       "      <td>g186411</td>\n",
       "      <td>Leeds_West_Yorkshire_England.html</td>\n",
       "    </tr>\n",
       "    <tr>\n",
       "      <th>6</th>\n",
       "      <td>g186337</td>\n",
       "      <td>Liverpool_Merseyside_England.html</td>\n",
       "    </tr>\n",
       "  </tbody>\n",
       "</table>\n",
       "</div>"
      ],
      "text/plain": [
       "  city_code                                        city\n",
       "0   g186338                         London_England.html\n",
       "1   g187069  Manchester_Greater_Manchester_England.html\n",
       "2   g186402       Birmingham_West_Midlands_England.html\n",
       "3   g186525                     Edinburgh_Scotland.html\n",
       "4   g186534                       Glasgow_Scotland.html\n",
       "5   g186411           Leeds_West_Yorkshire_England.html\n",
       "6   g186337           Liverpool_Merseyside_England.html"
      ]
     },
     "execution_count": 5,
     "metadata": {},
     "output_type": "execute_result"
    }
   ],
   "source": [
    "df=pd.DataFrame(data=[i.split(\"-\")[1:] for i in cities_subs], columns=['city_code', 'city'])\n",
    "df.head(7)"
   ]
  },
  {
   "cell_type": "markdown",
   "metadata": {},
   "source": [
    "Now that we have the url for each of the main 20 cities in UK, we can iterate through every restaurant and add it to a dataframe that we'll later use to easily collect all the information we need"
   ]
  },
  {
   "cell_type": "code",
   "execution_count": 6,
   "metadata": {
    "tags": []
   },
   "outputs": [
    {
     "name": "stdout",
     "output_type": "stream",
     "text": [
      "\n",
      "1\n",
      "\n",
      "Processing restaurants in London\n",
      "Done\n",
      "\n",
      "2\n",
      "\n",
      "Processing restaurants in Manchester\n",
      "Done\n",
      "\n",
      "3\n",
      "\n",
      "Processing restaurants in Birmingham\n",
      "Done\n",
      "\n",
      "4\n",
      "\n",
      "Processing restaurants in Edinburgh\n",
      "Done\n",
      "\n",
      "5\n",
      "\n",
      "Processing restaurants in Glasgow\n",
      "Done\n",
      "\n",
      "6\n",
      "\n",
      "Processing restaurants in Leeds\n",
      "Done\n",
      "\n",
      "7\n",
      "\n",
      "Processing restaurants in Liverpool\n",
      "Done\n",
      "\n",
      "8\n",
      "\n",
      "Processing restaurants in Bristol\n",
      "Done\n",
      "\n",
      "9\n",
      "\n",
      "Processing restaurants in Sheffield\n",
      "Done\n",
      "\n",
      "10\n",
      "\n",
      "Processing restaurants in Nottingham\n",
      "Done\n",
      "\n",
      "11\n",
      "\n",
      "Processing restaurants in Leicester\n",
      "Done\n",
      "\n",
      "12\n",
      "\n",
      "Processing restaurants in Cardiff\n",
      "Done\n",
      "\n",
      "13\n",
      "\n",
      "Processing restaurants in Newcastle\n",
      "Done\n",
      "\n",
      "14\n",
      "\n",
      "Processing restaurants in Brighton\n",
      "Done\n",
      "\n",
      "15\n",
      "\n",
      "Processing restaurants in Belfast\n",
      "Done\n",
      "\n",
      "16\n",
      "\n",
      "Processing restaurants in York\n",
      "Done\n",
      "\n",
      "17\n",
      "\n",
      "Processing restaurants in Blackpool\n",
      "Done\n",
      "\n",
      "18\n",
      "\n",
      "Processing restaurants in Southampton\n",
      "Done\n",
      "\n",
      "19\n",
      "\n",
      "Processing restaurants in Bournemouth\n",
      "Done\n",
      "\n",
      "20\n",
      "\n",
      "Processing restaurants in Norwich\n",
      "Done\n"
     ]
    }
   ],
   "source": [
    "def get_restaurants(row):\n",
    "    \n",
    "    \"\"\"Get all the vegan friendly restaurants and organize them in a dataframe\"\"\"\n",
    "    \n",
    "    columns=['command', 'city_code', 'restaurant_code', 'section', 'restaurant_name', 'city']\n",
    "    \n",
    "    command='/RestaurantSearch'\n",
    "    veg_filter='zfz10697'\n",
    "    page=0\n",
    "    restaurants_df=pd.DataFrame(columns=columns)\n",
    "    \n",
    "    \n",
    "    running=True\n",
    "    while running:\n",
    "        \n",
    "        if row['city_code']=='g186394':\n",
    "            row['city']='Newcastle_upon_Tyne_Tyne_and_Wear_England.html'\n",
    "        else:\n",
    "            row=row\n",
    "        \n",
    "        #enter the restaurants page\n",
    "        search_url = main_page + command + '-' + row['city_code'] + '-oa' + str(page) + '-' + veg_filter + '-' + row['city']\n",
    "        soup=web_to_soup(search_url)\n",
    "\n",
    "        #get links for each restaurant\n",
    "        link_restaurants=[i['href'] for i in soup.findAll('a', {'class':'_15_ydu6b'}) if i.text[0].isdigit()]\n",
    "\n",
    "        #split the subdirectories and add them in the dataframe\n",
    "        data=[i.split(\"-\") for i in link_restaurants]\n",
    "        \n",
    "        restaurants_df=restaurants_df.append(pd.DataFrame(data=data, columns=columns))\n",
    "        \n",
    "        if any(restaurants_df['restaurant_code'].duplicated()) is True:\n",
    "            print('Done')\n",
    "            running=False\n",
    "            break\n",
    "        \n",
    "        else:\n",
    "#             print('{}'.format(page))\n",
    "            page+=30\n",
    "            continue\n",
    "            \n",
    "    return restaurants_df\n",
    "\n",
    "\n",
    "\n",
    "uk_restaurants=[]\n",
    "counter=0\n",
    "for i in range(len(df)):\n",
    "    print(\"\\n\"+str(counter+1), end='\\n\\n')\n",
    "    print('Processing restaurants in {}'.format(df.loc[i, 'city'].split(\"_\")[0]))\n",
    "    uk_restaurants.append(get_restaurants(df.loc[i]))\n",
    "    counter+=1\n",
    "\n",
    "    \n",
    "    \n",
    "restaurants_df=pd.concat(uk_restaurants).reset_index()\n",
    "restaurants_df.drop('index', axis=1, inplace=True)"
   ]
  },
  {
   "cell_type": "code",
   "execution_count": 7,
   "metadata": {},
   "outputs": [],
   "source": [
    "backup_df=restaurants_df.copy()\n",
    "# restaurants_df=backup_df"
   ]
  },
  {
   "cell_type": "markdown",
   "metadata": {},
   "source": [
    "Since we have to calculate the amount of vegan friendly restaurants per capita, we'll need the population of each city. In order to do that we can download from [World Population Review]('https://worldpopulationreview.com/world-cities') the csv file containing all the uk's cities and the related population."
   ]
  },
  {
   "cell_type": "code",
   "execution_count": 8,
   "metadata": {},
   "outputs": [],
   "source": [
    "df['name']=[i.split('_')[0] for i in df['city']]\n",
    "df.loc[12, 'name']='Newcastle upon Tyne'\n",
    "\n",
    "uk_cities=pd.read_csv('ukpopulation.csv',index_col='name')\n",
    "pop_dict=uk_cities[uk_cities.index.isin(df['name'])].to_dict()['2021']\n",
    "df['population']=df['name'].map(pop_dict)"
   ]
  },
  {
   "cell_type": "markdown",
   "metadata": {},
   "source": [
    "In order to identify eventual duplicates during the collection of the data, we can use the column restaurant_code we've previously created."
   ]
  },
  {
   "cell_type": "code",
   "execution_count": 9,
   "metadata": {},
   "outputs": [
    {
     "data": {
      "text/plain": [
       "(12387, 6)"
      ]
     },
     "execution_count": 9,
     "metadata": {},
     "output_type": "execute_result"
    }
   ],
   "source": [
    "restaurants_df.shape"
   ]
  },
  {
   "cell_type": "code",
   "execution_count": 10,
   "metadata": {},
   "outputs": [],
   "source": [
    "restaurants_df['restaurant_code'].drop_duplicates(inplace=True)"
   ]
  },
  {
   "cell_type": "code",
   "execution_count": 11,
   "metadata": {},
   "outputs": [],
   "source": [
    "restaurants_df.dropna(axis=0, inplace=True)"
   ]
  },
  {
   "cell_type": "code",
   "execution_count": 12,
   "metadata": {},
   "outputs": [],
   "source": [
    "name=[i.split(\"_\")[0] for i in restaurants_df['city']]\n",
    "restaurants_df['name']=name"
   ]
  },
  {
   "cell_type": "code",
   "execution_count": 13,
   "metadata": {},
   "outputs": [
    {
     "data": {
      "text/html": [
       "<div>\n",
       "<style scoped>\n",
       "    .dataframe tbody tr th:only-of-type {\n",
       "        vertical-align: middle;\n",
       "    }\n",
       "\n",
       "    .dataframe tbody tr th {\n",
       "        vertical-align: top;\n",
       "    }\n",
       "\n",
       "    .dataframe thead th {\n",
       "        text-align: right;\n",
       "    }\n",
       "</style>\n",
       "<table border=\"1\" class=\"dataframe\">\n",
       "  <thead>\n",
       "    <tr style=\"text-align: right;\">\n",
       "      <th></th>\n",
       "      <th>command</th>\n",
       "      <th>city_code</th>\n",
       "      <th>restaurant_code</th>\n",
       "      <th>section</th>\n",
       "      <th>restaurant_name</th>\n",
       "      <th>city</th>\n",
       "      <th>name</th>\n",
       "    </tr>\n",
       "  </thead>\n",
       "  <tbody>\n",
       "    <tr>\n",
       "      <th>0</th>\n",
       "      <td>/Restaurant_Review</td>\n",
       "      <td>g186338</td>\n",
       "      <td>d21302648</td>\n",
       "      <td>Reviews</td>\n",
       "      <td>Hibox</td>\n",
       "      <td>London_England.html</td>\n",
       "      <td>London</td>\n",
       "    </tr>\n",
       "    <tr>\n",
       "      <th>1</th>\n",
       "      <td>/Restaurant_Review</td>\n",
       "      <td>g186338</td>\n",
       "      <td>d783897</td>\n",
       "      <td>Reviews</td>\n",
       "      <td>Indian_Room</td>\n",
       "      <td>London_England.html</td>\n",
       "      <td>London</td>\n",
       "    </tr>\n",
       "    <tr>\n",
       "      <th>2</th>\n",
       "      <td>/Restaurant_Review</td>\n",
       "      <td>g186338</td>\n",
       "      <td>d14134252</td>\n",
       "      <td>Reviews</td>\n",
       "      <td>Scarlett_Green</td>\n",
       "      <td>London_England.html</td>\n",
       "      <td>London</td>\n",
       "    </tr>\n",
       "    <tr>\n",
       "      <th>3</th>\n",
       "      <td>/Restaurant_Review</td>\n",
       "      <td>g186338</td>\n",
       "      <td>d813149</td>\n",
       "      <td>Reviews</td>\n",
       "      <td>Taste_Of_Nawab</td>\n",
       "      <td>London_England.html</td>\n",
       "      <td>London</td>\n",
       "    </tr>\n",
       "    <tr>\n",
       "      <th>4</th>\n",
       "      <td>/Restaurant_Review</td>\n",
       "      <td>g186338</td>\n",
       "      <td>d15614126</td>\n",
       "      <td>Reviews</td>\n",
       "      <td>The_Rajdoot_Hampstead</td>\n",
       "      <td>London_England.html</td>\n",
       "      <td>London</td>\n",
       "    </tr>\n",
       "    <tr>\n",
       "      <th>...</th>\n",
       "      <td>...</td>\n",
       "      <td>...</td>\n",
       "      <td>...</td>\n",
       "      <td>...</td>\n",
       "      <td>...</td>\n",
       "      <td>...</td>\n",
       "      <td>...</td>\n",
       "    </tr>\n",
       "    <tr>\n",
       "      <th>11977</th>\n",
       "      <td>/Restaurant_Review</td>\n",
       "      <td>g186342</td>\n",
       "      <td>d6740910</td>\n",
       "      <td>Reviews</td>\n",
       "      <td>Ciscoe_s_Pan_Asian_Sushi</td>\n",
       "      <td>Norwich_Norfolk_East_Anglia_England.html</td>\n",
       "      <td>Norwich</td>\n",
       "    </tr>\n",
       "    <tr>\n",
       "      <th>11978</th>\n",
       "      <td>/Restaurant_Review</td>\n",
       "      <td>g186342</td>\n",
       "      <td>d9558807</td>\n",
       "      <td>Reviews</td>\n",
       "      <td>Brick_Pizza</td>\n",
       "      <td>Norwich_Norfolk_East_Anglia_England.html</td>\n",
       "      <td>Norwich</td>\n",
       "    </tr>\n",
       "    <tr>\n",
       "      <th>11979</th>\n",
       "      <td>/Restaurant_Review</td>\n",
       "      <td>g186342</td>\n",
       "      <td>d8288163</td>\n",
       "      <td>Reviews</td>\n",
       "      <td>Donnelli_s_Pizzeria</td>\n",
       "      <td>Norwich_Norfolk_East_Anglia_England.html</td>\n",
       "      <td>Norwich</td>\n",
       "    </tr>\n",
       "    <tr>\n",
       "      <th>11980</th>\n",
       "      <td>/Restaurant_Review</td>\n",
       "      <td>g186342</td>\n",
       "      <td>d731365</td>\n",
       "      <td>Reviews</td>\n",
       "      <td>Benedicts</td>\n",
       "      <td>Norwich_Norfolk_East_Anglia_England.html</td>\n",
       "      <td>Norwich</td>\n",
       "    </tr>\n",
       "    <tr>\n",
       "      <th>11981</th>\n",
       "      <td>/Restaurant_Review</td>\n",
       "      <td>g186342</td>\n",
       "      <td>d1800338</td>\n",
       "      <td>Reviews</td>\n",
       "      <td>Roti</td>\n",
       "      <td>Norwich_Norfolk_East_Anglia_England.html</td>\n",
       "      <td>Norwich</td>\n",
       "    </tr>\n",
       "  </tbody>\n",
       "</table>\n",
       "<p>11982 rows × 7 columns</p>\n",
       "</div>"
      ],
      "text/plain": [
       "                  command city_code restaurant_code  section  \\\n",
       "0      /Restaurant_Review   g186338       d21302648  Reviews   \n",
       "1      /Restaurant_Review   g186338         d783897  Reviews   \n",
       "2      /Restaurant_Review   g186338       d14134252  Reviews   \n",
       "3      /Restaurant_Review   g186338         d813149  Reviews   \n",
       "4      /Restaurant_Review   g186338       d15614126  Reviews   \n",
       "...                   ...       ...             ...      ...   \n",
       "11977  /Restaurant_Review   g186342        d6740910  Reviews   \n",
       "11978  /Restaurant_Review   g186342        d9558807  Reviews   \n",
       "11979  /Restaurant_Review   g186342        d8288163  Reviews   \n",
       "11980  /Restaurant_Review   g186342         d731365  Reviews   \n",
       "11981  /Restaurant_Review   g186342        d1800338  Reviews   \n",
       "\n",
       "                restaurant_name                                      city  \\\n",
       "0                         Hibox                       London_England.html   \n",
       "1                   Indian_Room                       London_England.html   \n",
       "2                Scarlett_Green                       London_England.html   \n",
       "3                Taste_Of_Nawab                       London_England.html   \n",
       "4         The_Rajdoot_Hampstead                       London_England.html   \n",
       "...                         ...                                       ...   \n",
       "11977  Ciscoe_s_Pan_Asian_Sushi  Norwich_Norfolk_East_Anglia_England.html   \n",
       "11978               Brick_Pizza  Norwich_Norfolk_East_Anglia_England.html   \n",
       "11979       Donnelli_s_Pizzeria  Norwich_Norfolk_East_Anglia_England.html   \n",
       "11980                 Benedicts  Norwich_Norfolk_East_Anglia_England.html   \n",
       "11981                      Roti  Norwich_Norfolk_East_Anglia_England.html   \n",
       "\n",
       "          name  \n",
       "0       London  \n",
       "1       London  \n",
       "2       London  \n",
       "3       London  \n",
       "4       London  \n",
       "...        ...  \n",
       "11977  Norwich  \n",
       "11978  Norwich  \n",
       "11979  Norwich  \n",
       "11980  Norwich  \n",
       "11981  Norwich  \n",
       "\n",
       "[11982 rows x 7 columns]"
      ]
     },
     "execution_count": 13,
     "metadata": {},
     "output_type": "execute_result"
    }
   ],
   "source": [
    "restaurants_df=restaurants_df[restaurants_df['city_code'].isin(df['city_code'])]\n",
    "restaurants_df.reset_index(inplace=True)\n",
    "restaurants_df.drop('index',axis=1, inplace=True)\n",
    "restaurants_df"
   ]
  },
  {
   "cell_type": "markdown",
   "metadata": {},
   "source": [
    "Now we can calculate how many <ins>vegan friendly restaurants there are  per capita in each of the top 20 UK cities listed on TripAdvisor</ins>."
   ]
  },
  {
   "cell_type": "code",
   "execution_count": 14,
   "metadata": {},
   "outputs": [],
   "source": [
    "vegans_friendly=dict(restaurants_df.groupby('name')['restaurant_code'].count())\n",
    "df['avenues_counter']=df['name'].map(vegans_friendly)\n",
    "df.loc[12, 'avenues_counter']=vegans_friendly['Newcastle']"
   ]
  },
  {
   "cell_type": "code",
   "execution_count": 15,
   "metadata": {
    "tags": []
   },
   "outputs": [],
   "source": [
    "df['veg_friendly_per_capita']=(df['avenues_counter']/df['population'])"
   ]
  },
  {
   "cell_type": "markdown",
   "metadata": {},
   "source": [
    " "
   ]
  },
  {
   "cell_type": "code",
   "execution_count": 16,
   "metadata": {},
   "outputs": [
    {
     "data": {
      "text/html": [
       "<div>\n",
       "<style scoped>\n",
       "    .dataframe tbody tr th:only-of-type {\n",
       "        vertical-align: middle;\n",
       "    }\n",
       "\n",
       "    .dataframe tbody tr th {\n",
       "        vertical-align: top;\n",
       "    }\n",
       "\n",
       "    .dataframe thead th {\n",
       "        text-align: right;\n",
       "    }\n",
       "</style>\n",
       "<table border=\"1\" class=\"dataframe\">\n",
       "  <thead>\n",
       "    <tr style=\"text-align: right;\">\n",
       "      <th></th>\n",
       "      <th>command</th>\n",
       "      <th>city_code</th>\n",
       "      <th>restaurant_code</th>\n",
       "      <th>section</th>\n",
       "      <th>restaurant_name</th>\n",
       "      <th>city</th>\n",
       "      <th>name</th>\n",
       "    </tr>\n",
       "  </thead>\n",
       "  <tbody>\n",
       "    <tr>\n",
       "      <th>0</th>\n",
       "      <td>/Restaurant_Review</td>\n",
       "      <td>g186338</td>\n",
       "      <td>d21302648</td>\n",
       "      <td>Reviews</td>\n",
       "      <td>Hibox</td>\n",
       "      <td>London_England.html</td>\n",
       "      <td>London</td>\n",
       "    </tr>\n",
       "    <tr>\n",
       "      <th>1</th>\n",
       "      <td>/Restaurant_Review</td>\n",
       "      <td>g186338</td>\n",
       "      <td>d783897</td>\n",
       "      <td>Reviews</td>\n",
       "      <td>Indian_Room</td>\n",
       "      <td>London_England.html</td>\n",
       "      <td>London</td>\n",
       "    </tr>\n",
       "    <tr>\n",
       "      <th>2</th>\n",
       "      <td>/Restaurant_Review</td>\n",
       "      <td>g186338</td>\n",
       "      <td>d14134252</td>\n",
       "      <td>Reviews</td>\n",
       "      <td>Scarlett_Green</td>\n",
       "      <td>London_England.html</td>\n",
       "      <td>London</td>\n",
       "    </tr>\n",
       "    <tr>\n",
       "      <th>3</th>\n",
       "      <td>/Restaurant_Review</td>\n",
       "      <td>g186338</td>\n",
       "      <td>d813149</td>\n",
       "      <td>Reviews</td>\n",
       "      <td>Taste_Of_Nawab</td>\n",
       "      <td>London_England.html</td>\n",
       "      <td>London</td>\n",
       "    </tr>\n",
       "    <tr>\n",
       "      <th>4</th>\n",
       "      <td>/Restaurant_Review</td>\n",
       "      <td>g186338</td>\n",
       "      <td>d15614126</td>\n",
       "      <td>Reviews</td>\n",
       "      <td>The_Rajdoot_Hampstead</td>\n",
       "      <td>London_England.html</td>\n",
       "      <td>London</td>\n",
       "    </tr>\n",
       "    <tr>\n",
       "      <th>...</th>\n",
       "      <td>...</td>\n",
       "      <td>...</td>\n",
       "      <td>...</td>\n",
       "      <td>...</td>\n",
       "      <td>...</td>\n",
       "      <td>...</td>\n",
       "      <td>...</td>\n",
       "    </tr>\n",
       "    <tr>\n",
       "      <th>11977</th>\n",
       "      <td>/Restaurant_Review</td>\n",
       "      <td>g186342</td>\n",
       "      <td>d6740910</td>\n",
       "      <td>Reviews</td>\n",
       "      <td>Ciscoe_s_Pan_Asian_Sushi</td>\n",
       "      <td>Norwich_Norfolk_East_Anglia_England.html</td>\n",
       "      <td>Norwich</td>\n",
       "    </tr>\n",
       "    <tr>\n",
       "      <th>11978</th>\n",
       "      <td>/Restaurant_Review</td>\n",
       "      <td>g186342</td>\n",
       "      <td>d9558807</td>\n",
       "      <td>Reviews</td>\n",
       "      <td>Brick_Pizza</td>\n",
       "      <td>Norwich_Norfolk_East_Anglia_England.html</td>\n",
       "      <td>Norwich</td>\n",
       "    </tr>\n",
       "    <tr>\n",
       "      <th>11979</th>\n",
       "      <td>/Restaurant_Review</td>\n",
       "      <td>g186342</td>\n",
       "      <td>d8288163</td>\n",
       "      <td>Reviews</td>\n",
       "      <td>Donnelli_s_Pizzeria</td>\n",
       "      <td>Norwich_Norfolk_East_Anglia_England.html</td>\n",
       "      <td>Norwich</td>\n",
       "    </tr>\n",
       "    <tr>\n",
       "      <th>11980</th>\n",
       "      <td>/Restaurant_Review</td>\n",
       "      <td>g186342</td>\n",
       "      <td>d731365</td>\n",
       "      <td>Reviews</td>\n",
       "      <td>Benedicts</td>\n",
       "      <td>Norwich_Norfolk_East_Anglia_England.html</td>\n",
       "      <td>Norwich</td>\n",
       "    </tr>\n",
       "    <tr>\n",
       "      <th>11981</th>\n",
       "      <td>/Restaurant_Review</td>\n",
       "      <td>g186342</td>\n",
       "      <td>d1800338</td>\n",
       "      <td>Reviews</td>\n",
       "      <td>Roti</td>\n",
       "      <td>Norwich_Norfolk_East_Anglia_England.html</td>\n",
       "      <td>Norwich</td>\n",
       "    </tr>\n",
       "  </tbody>\n",
       "</table>\n",
       "<p>11982 rows × 7 columns</p>\n",
       "</div>"
      ],
      "text/plain": [
       "                  command city_code restaurant_code  section  \\\n",
       "0      /Restaurant_Review   g186338       d21302648  Reviews   \n",
       "1      /Restaurant_Review   g186338         d783897  Reviews   \n",
       "2      /Restaurant_Review   g186338       d14134252  Reviews   \n",
       "3      /Restaurant_Review   g186338         d813149  Reviews   \n",
       "4      /Restaurant_Review   g186338       d15614126  Reviews   \n",
       "...                   ...       ...             ...      ...   \n",
       "11977  /Restaurant_Review   g186342        d6740910  Reviews   \n",
       "11978  /Restaurant_Review   g186342        d9558807  Reviews   \n",
       "11979  /Restaurant_Review   g186342        d8288163  Reviews   \n",
       "11980  /Restaurant_Review   g186342         d731365  Reviews   \n",
       "11981  /Restaurant_Review   g186342        d1800338  Reviews   \n",
       "\n",
       "                restaurant_name                                      city  \\\n",
       "0                         Hibox                       London_England.html   \n",
       "1                   Indian_Room                       London_England.html   \n",
       "2                Scarlett_Green                       London_England.html   \n",
       "3                Taste_Of_Nawab                       London_England.html   \n",
       "4         The_Rajdoot_Hampstead                       London_England.html   \n",
       "...                         ...                                       ...   \n",
       "11977  Ciscoe_s_Pan_Asian_Sushi  Norwich_Norfolk_East_Anglia_England.html   \n",
       "11978               Brick_Pizza  Norwich_Norfolk_East_Anglia_England.html   \n",
       "11979       Donnelli_s_Pizzeria  Norwich_Norfolk_East_Anglia_England.html   \n",
       "11980                 Benedicts  Norwich_Norfolk_East_Anglia_England.html   \n",
       "11981                      Roti  Norwich_Norfolk_East_Anglia_England.html   \n",
       "\n",
       "          name  \n",
       "0       London  \n",
       "1       London  \n",
       "2       London  \n",
       "3       London  \n",
       "4       London  \n",
       "...        ...  \n",
       "11977  Norwich  \n",
       "11978  Norwich  \n",
       "11979  Norwich  \n",
       "11980  Norwich  \n",
       "11981  Norwich  \n",
       "\n",
       "[11982 rows x 7 columns]"
      ]
     },
     "execution_count": 16,
     "metadata": {},
     "output_type": "execute_result"
    }
   ],
   "source": [
    "restaurants_df"
   ]
  },
  {
   "cell_type": "markdown",
   "metadata": {},
   "source": [
    "### DATA VISUALIZATION"
   ]
  },
  {
   "cell_type": "markdown",
   "metadata": {},
   "source": [
    "We can now visualize some of the results obtained:\n",
    "\n",
    "1. At first glance, **London**, with a total of 4825 avenues is placed in the first place <ins>as per quantity of vegan friendly restaurants</ins>, follow **Edinburgh** with 764, **Glasgow** with 602 and **Birmingham** with 537"
   ]
  },
  {
   "cell_type": "code",
   "execution_count": 17,
   "metadata": {
    "tags": []
   },
   "outputs": [
    {
     "data": {
      "image/png": "[encoded data removed]",
      "text/plain": [
       "<Figure size 1080x432 with 1 Axes>"
      ]
     },
     "metadata": {
      "needs_background": "light"
     },
     "output_type": "display_data"
    }
   ],
   "source": [
    "filt=restaurants_df.groupby('name')['command'].count().sort_values(ascending=False)\n",
    "fig=plt.figure(figsize=(15, 6))\n",
    "plt.title(\"Vegan-friendly avenues per city\")\n",
    "\n",
    "splot=sns.barplot(x=filt.index.tolist(), y=filt.values.tolist(), palette='tab20')\n",
    "\n",
    "for p in splot.patches:\n",
    "    splot.annotate(format(p.get_height(), '.0f'), \n",
    "                   (p.get_x() + p.get_width() / 2., p.get_height()), \n",
    "                   ha = 'center', va = 'center', \n",
    "                   xytext = (0, 9), \n",
    "                   textcoords = 'offset points')\n",
    "fig.tight_layout()\n",
    "plt.xticks(rotation=75)\n",
    "plt.yticks(range(0, 5000, 250))\n",
    "plt.show()"
   ]
  },
  {
   "cell_type": "markdown",
   "metadata": {},
   "source": [
    "2. When we calculate and represents the <ins>vegan friendly restaurants per capita in each of the top 20 UK cities listed on TripAdvisor</ins>, we quickly see that London is no longer leading in the graph, instead the higher presence of vegan friendly restaurants per capita is registered in: \n",
    "\n",
    "* Brighton\n",
    "* York\n",
    "* Newcastle upon Tyne"
   ]
  },
  {
   "cell_type": "code",
   "execution_count": 18,
   "metadata": {
    "tags": []
   },
   "outputs": [
    {
     "data": {
      "image/png": "[encoded data removed]",
      "text/plain": [
       "<Figure size 936x432 with 1 Axes>"
      ]
     },
     "metadata": {
      "needs_background": "light"
     },
     "output_type": "display_data"
    }
   ],
   "source": [
    "veg_per_capita=df[['name','veg_friendly_per_capita']].sort_values(by='veg_friendly_per_capita', ascending=False)\n",
    "\n",
    "fig=plt.figure(figsize=(13, 6))\n",
    "plt.title('Vegan-friendly restaurants per capita per city')\n",
    "splot=sns.barplot(data=veg_per_capita, x='name', y='veg_friendly_per_capita', palette='tab20')\n",
    "\n",
    "for p in splot.patches:\n",
    "    splot.annotate(format(p.get_height(), '.4f'), \n",
    "                   (p.get_x() + p.get_width() / 2., p.get_height()), \n",
    "                   ha = 'center', va = 'center', \n",
    "                   xytext = (0, 9), \n",
    "                   textcoords = 'offset points')\n",
    "    \n",
    "fig.tight_layout()\n",
    "plt.xticks(rotation=75)\n",
    "plt.show()"
   ]
  },
  {
   "cell_type": "markdown",
   "metadata": {},
   "source": [
    "___"
   ]
  },
  {
   "cell_type": "markdown",
   "metadata": {},
   "source": [
    "Now that we have the link for each restaurant in a dataframe, we can collect further information about the avenue and visualize it in a map. In order to do that, the library Folium, will give the possibility to show and interact with the UK map, making it easier to visualize the avenues in the territory, but also get immediate information about it."
   ]
  },
  {
   "cell_type": "code",
   "execution_count": 19,
   "metadata": {},
   "outputs": [],
   "source": [
    "links=[]\n",
    "for i in range(len(restaurants_df.loc[:, :'city'])):\n",
    "    links.append(main_page + \"-\".join(restaurants_df.loc[i, :'city']))\n",
    "    \n",
    "restaurants_df['link']=links\n",
    "\n",
    "def restaurants_details(link):\n",
    "    \n",
    "    \"\"\"Enter the restaurant's Tripadvisor web page and collect:\n",
    "    \n",
    "        -location\n",
    "        -phone number\n",
    "        -price range\n",
    "        -cuisine\n",
    "        -rating\"\"\"\n",
    "    \n",
    "    info=dict()\n",
    "    container=[]\n",
    "    soup=web_to_soup(link)\n",
    "    \n",
    "    try:\n",
    "        #get location\n",
    "        info['location']=soup.body.findAll('a', {'class': '_2wKz--mA _27M8V6YV'})[0].text\n",
    "        #get phone number\n",
    "        info['phone']=soup.body.findAll('span', {'class':'_2saB_OSe'})[-1].text\n",
    "        #get price range\n",
    "        info['price']=soup.body.findAll('a', {'class':'_2mn01bsa'})[0].text\n",
    "        #get cuisine\n",
    "        info['cuisine']=soup.body.findAll('a', {'class':'_2mn01bsa'})[1].text\n",
    "        #get rating\n",
    "        info['rating']=re.findall(\"\\d.\\d\",soup.body.findAll('span', {'class':'r2Cf69qf'})[-1].text)[0]\n",
    "                \n",
    "    except:\n",
    "        pass\n",
    "        \n",
    "    return info"
   ]
  },
  {
   "cell_type": "code",
   "execution_count": 20,
   "metadata": {
    "tags": []
   },
   "outputs": [
    {
     "name": "stdout",
     "output_type": "stream",
     "text": [
      "CPU times: user 54min 16s, sys: 55.9 s, total: 55min 12s\n",
      "Wall time: 4h 39min 6s\n"
     ]
    }
   ],
   "source": [
    "%%time\n",
    "av_info=restaurants_df.loc[:, 'link'].map(restaurants_details)"
   ]
  },
  {
   "cell_type": "code",
   "execution_count": 21,
   "metadata": {
    "tags": []
   },
   "outputs": [],
   "source": [
    "# import pickle\n",
    "\n",
    "# avenues_details=open('avenues_details.pkl', 'wb')\n",
    "# pickle.dump(av_info, avenues_details)\n",
    "# avenues_details.close()\n",
    "\n",
    "# file=open('avenues_details.pkl' ,'rb')\n",
    "# avenues_details=pickle.load(file)"
   ]
  },
  {
   "cell_type": "code",
   "execution_count": 22,
   "metadata": {},
   "outputs": [
    {
     "data": {
      "text/html": [
       "<div>\n",
       "<style scoped>\n",
       "    .dataframe tbody tr th:only-of-type {\n",
       "        vertical-align: middle;\n",
       "    }\n",
       "\n",
       "    .dataframe tbody tr th {\n",
       "        vertical-align: top;\n",
       "    }\n",
       "\n",
       "    .dataframe thead th {\n",
       "        text-align: right;\n",
       "    }\n",
       "</style>\n",
       "<table border=\"1\" class=\"dataframe\">\n",
       "  <thead>\n",
       "    <tr style=\"text-align: right;\">\n",
       "      <th></th>\n",
       "      <th>city_code</th>\n",
       "      <th>restaurant_code</th>\n",
       "      <th>restaurant_name</th>\n",
       "      <th>name</th>\n",
       "      <th>link</th>\n",
       "      <th>location</th>\n",
       "      <th>phone</th>\n",
       "      <th>price_range</th>\n",
       "      <th>cuisine</th>\n",
       "      <th>rating</th>\n",
       "    </tr>\n",
       "  </thead>\n",
       "  <tbody>\n",
       "    <tr>\n",
       "      <th>0</th>\n",
       "      <td>g186338</td>\n",
       "      <td>d21302648</td>\n",
       "      <td>Hibox</td>\n",
       "      <td>London</td>\n",
       "      <td>https://www.tripadvisor.co.uk/Restaurant_Revie...</td>\n",
       "      <td>48 Goodge Street, London W1T 4LX England</td>\n",
       "      <td>+44 20 7580 9312</td>\n",
       "      <td>£</td>\n",
       "      <td>Lebanese</td>\n",
       "      <td>5.0</td>\n",
       "    </tr>\n",
       "    <tr>\n",
       "      <th>1</th>\n",
       "      <td>g186338</td>\n",
       "      <td>d783897</td>\n",
       "      <td>Indian_Room</td>\n",
       "      <td>London</td>\n",
       "      <td>https://www.tripadvisor.co.uk/Restaurant_Revie...</td>\n",
       "      <td>59 Bedford Hill Balham, London SW12 9EZ England</td>\n",
       "      <td>+44 20 8675 8611</td>\n",
       "      <td>££ - £££</td>\n",
       "      <td>Indian</td>\n",
       "      <td>5.0</td>\n",
       "    </tr>\n",
       "    <tr>\n",
       "      <th>2</th>\n",
       "      <td>g186338</td>\n",
       "      <td>d14134252</td>\n",
       "      <td>Scarlett_Green</td>\n",
       "      <td>London</td>\n",
       "      <td>https://www.tripadvisor.co.uk/Restaurant_Revie...</td>\n",
       "      <td>4 Noel Street Soho, London W1F 8GB England</td>\n",
       "      <td>+44 20 3653 2010</td>\n",
       "      <td>££ - £££</td>\n",
       "      <td>Australian</td>\n",
       "      <td>5.0</td>\n",
       "    </tr>\n",
       "    <tr>\n",
       "      <th>3</th>\n",
       "      <td>g186338</td>\n",
       "      <td>d813149</td>\n",
       "      <td>Taste_Of_Nawab</td>\n",
       "      <td>London</td>\n",
       "      <td>https://www.tripadvisor.co.uk/Restaurant_Revie...</td>\n",
       "      <td>97 Colney Hatch Lane, London N10 1LR England</td>\n",
       "      <td>+351 929 170 320</td>\n",
       "      <td>££ - £££</td>\n",
       "      <td>Indian</td>\n",
       "      <td>5.0</td>\n",
       "    </tr>\n",
       "    <tr>\n",
       "      <th>4</th>\n",
       "      <td>g186338</td>\n",
       "      <td>d15614126</td>\n",
       "      <td>The_Rajdoot_Hampstead</td>\n",
       "      <td>London</td>\n",
       "      <td>https://www.tripadvisor.co.uk/Restaurant_Revie...</td>\n",
       "      <td>104 Fleet Road Hampstead, London NW3 2QX England</td>\n",
       "      <td>+44 20 7485 1329</td>\n",
       "      <td>££ - £££</td>\n",
       "      <td>Indian</td>\n",
       "      <td>5.0</td>\n",
       "    </tr>\n",
       "  </tbody>\n",
       "</table>\n",
       "</div>"
      ],
      "text/plain": [
       "  city_code restaurant_code        restaurant_name    name  \\\n",
       "0   g186338       d21302648                  Hibox  London   \n",
       "1   g186338         d783897            Indian_Room  London   \n",
       "2   g186338       d14134252         Scarlett_Green  London   \n",
       "3   g186338         d813149         Taste_Of_Nawab  London   \n",
       "4   g186338       d15614126  The_Rajdoot_Hampstead  London   \n",
       "\n",
       "                                                link  \\\n",
       "0  https://www.tripadvisor.co.uk/Restaurant_Revie...   \n",
       "1  https://www.tripadvisor.co.uk/Restaurant_Revie...   \n",
       "2  https://www.tripadvisor.co.uk/Restaurant_Revie...   \n",
       "3  https://www.tripadvisor.co.uk/Restaurant_Revie...   \n",
       "4  https://www.tripadvisor.co.uk/Restaurant_Revie...   \n",
       "\n",
       "                                           location             phone  \\\n",
       "0          48 Goodge Street, London W1T 4LX England  +44 20 7580 9312   \n",
       "1   59 Bedford Hill Balham, London SW12 9EZ England  +44 20 8675 8611   \n",
       "2        4 Noel Street Soho, London W1F 8GB England  +44 20 3653 2010   \n",
       "3      97 Colney Hatch Lane, London N10 1LR England  +351 929 170 320   \n",
       "4  104 Fleet Road Hampstead, London NW3 2QX England  +44 20 7485 1329   \n",
       "\n",
       "  price_range     cuisine rating  \n",
       "0           £    Lebanese    5.0  \n",
       "1    ££ - £££      Indian    5.0  \n",
       "2    ££ - £££  Australian    5.0  \n",
       "3    ££ - £££      Indian    5.0  \n",
       "4    ££ - £££      Indian    5.0  "
      ]
     },
     "execution_count": 22,
     "metadata": {},
     "output_type": "execute_result"
    }
   ],
   "source": [
    "avenues_details=pd.concat([restaurants_df, pd.DataFrame([i.values() for i in av_info], columns=['location', 'phone', 'price_range', 'cuisine', 'rating'])], axis=1).drop(['command', 'section', 'city'], axis=1)\n",
    "avenues_details.head()"
   ]
  },
  {
   "cell_type": "code",
   "execution_count": 74,
   "metadata": {},
   "outputs": [],
   "source": [
    "def get_coordinates(location, attempt=1, max_attempt=5):\n",
    "    \n",
    "    \"\"\"Turn an address into coordinates\"\"\"\n",
    "    \n",
    "    locator = Nominatim(user_agent=\"uk_coordinates\")\n",
    "        \n",
    "    try:\n",
    "        time.sleep(2.5)\n",
    "    \n",
    "        coordinates = locator.geocode(location)\n",
    "\n",
    "        if coordinates is None:\n",
    "            coordinates=location, (51, 0)\n",
    "        else:\n",
    "            coordinates = locator.geocode(location)\n",
    "            \n",
    "        return coordinates[1]\n",
    "            \n",
    "    except GeocoderTimedOut:\n",
    "        \n",
    "        time.sleep(2.5)\n",
    "                \n",
    "        if attempt <= max_attempt:\n",
    "            \n",
    "            return get_coordinates(location, attempt=attempt+1)\n",
    "        \n",
    "            \n"
   ]
  },
  {
   "cell_type": "code",
   "execution_count": 76,
   "metadata": {
    "tags": []
   },
   "outputs": [
    {
     "data": {
      "text/plain": [
       "(51.4256431, -0.0487489)"
      ]
     },
     "execution_count": 76,
     "metadata": {},
     "output_type": "execute_result"
    }
   ],
   "source": [
    "get_coordinates(avenues_details.loc[256, 'location'])"
   ]
  },
  {
   "cell_type": "markdown",
   "metadata": {},
   "source": [
    "By iterating through the new column created: \"location\", we can create an interactive marker for each avenue and show useful information when clicked."
   ]
  },
  {
   "cell_type": "code",
   "execution_count": 101,
   "metadata": {
    "tags": []
   },
   "outputs": [],
   "source": [
    "uk_map=folium.Map(location=[51.50, 0.12], zoom_start=6, tiles='OpenStreetMap')\n",
    "\n",
    "marker_cluster=MarkerCluster().add_to(uk_map)\n",
    "\n",
    "#100 sample example\n",
    "for i in avenues_details.sample(frac=1).index.tolist()[:100]:\n",
    "\n",
    "    label=f\"\"\"\n",
    "\n",
    "    <div>\n",
    "\n",
    "    <b>NAME</b>: {avenues_details.loc[i,'restaurant_name']} <br><br>\n",
    "    <b>CONTACT</b>: {avenues_details.loc[i,'phone']} <br><br>\n",
    "    <b>PRICE</b>: {avenues_details.loc[i,'price_range']} <br><br>\n",
    "    <b>CUISINE</b>: {avenues_details.loc[i,'cuisine']} <br><br>\n",
    "    <b>RATING</b>: {avenues_details.loc[i,'rating']} <br><br>\n",
    "\n",
    "    </div>\n",
    "\n",
    "    \"\"\"\n",
    "\n",
    "    time.sleep(2)\n",
    "    coordinates=get_coordinates(avenues_details.loc[i, 'location'])\n",
    "    location=folium.Marker(coordinates, popup=label, tooltip='Click for more!', icon=folium.Icon(icon='leaf', color='green', prefix='fa')).add_to(marker_cluster)"
   ]
  },
  {
   "cell_type": "code",
   "execution_count": 103,
   "metadata": {
    "tags": []
   },
   "outputs": [],
   "source": [
    "uk_map.save('uk_vegan_friendly_restaurants.html')"
   ]
  },
  {
   "cell_type": "code",
   "execution_count": null,
   "metadata": {},
   "outputs": [],
   "source": []
  },
  {
   "cell_type": "code",
   "execution_count": null,
   "metadata": {},
   "outputs": [],
   "source": []
  }
 ],
 "metadata": {
  "kernelspec": {
   "display_name": "Python 3",
   "language": "python",
   "name": "python3"
  },
  "language_info": {
   "codemirror_mode": {
    "name": "ipython",
    "version": 3
   },
   "file_extension": ".py",
   "mimetype": "text/x-python",
   "name": "python",
   "nbconvert_exporter": "python",
   "pygments_lexer": "ipython3",
   "version": "3.8.0"
  }
 },
 "nbformat": 4,
 "nbformat_minor": 4
}
